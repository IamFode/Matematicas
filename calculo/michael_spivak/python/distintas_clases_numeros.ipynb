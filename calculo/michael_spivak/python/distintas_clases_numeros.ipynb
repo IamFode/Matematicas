{
 "cells": [
  {
   "cell_type": "markdown",
   "metadata": {},
   "source": [
    "<h1>Problemas</h1>\n",
    "<h2>1.</h2>\n",
    "<h3>(i)</h3>\n",
    "$$1^2+...+n^2=\\dfrac{n(n+1)(2n+1)}{6}$$"
   ]
  },
  {
   "cell_type": "code",
   "execution_count": 7,
   "metadata": {},
   "outputs": [
    {
     "name": "stdout",
     "output_type": "stream",
     "text": [
      "6201 = 6201\n"
     ]
    }
   ],
   "source": [
    "def induc1(n):\n",
    "    control = 0\n",
    "    for n in range(1,n+1):\n",
    "        control += n**2\n",
    "    print(control, \"=\", int((n*(n+1)*(2*n+1))/6))\n",
    "\n",
    "#ejemplos\n",
    "induc1(26)"
   ]
  },
  {
   "cell_type": "code",
   "execution_count": null,
   "metadata": {},
   "outputs": [],
   "source": []
  }
 ],
 "metadata": {
  "kernelspec": {
   "display_name": "Python 3",
   "language": "python",
   "name": "python3"
  },
  "language_info": {
   "codemirror_mode": {
    "name": "ipython",
    "version": 3
   },
   "file_extension": ".py",
   "mimetype": "text/x-python",
   "name": "python",
   "nbconvert_exporter": "python",
   "pygments_lexer": "ipython3",
   "version": "3.6.8"
  }
 },
 "nbformat": 4,
 "nbformat_minor": 4
}
