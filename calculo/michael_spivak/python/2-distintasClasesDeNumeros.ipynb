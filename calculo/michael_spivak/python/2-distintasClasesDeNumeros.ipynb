{
 "cells": [
  {
   "cell_type": "markdown",
   "metadata": {},
   "source": [
    "<h1>Problemas</h1>\n",
    "<h2>1.</h2>\n",
    "<h3>(i)</h3>\n",
    "$$1^2+...+n^2=\\dfrac{n(n+1)(2n+1)}{6}$$"
   ]
  },
  {
   "cell_type": "code",
   "execution_count": 2,
   "metadata": {},
   "outputs": [
    {
     "output_type": "stream",
     "name": "stdout",
     "text": [
      "6201 = 6201\n"
     ]
    }
   ],
   "source": [
    "def induc1(n):\n",
    "    control = 0\n",
    "    for n in range(1,n+1):\n",
    "        control += n**2\n",
    "    print(control, \"=\", int((n*(n+1)*(2*n+1))/6))\n",
    "\n",
    "#ejemplos\n",
    "induc1(26)"
   ]
  },
  {
   "source": [
    "<h3>(ii)</h3>\n",
    "$$1^2 + ... +9 n^2 = (1+...+n)^2$$"
   ],
   "cell_type": "markdown",
   "metadata": {}
  },
  {
   "cell_type": "code",
   "execution_count": 11,
   "metadata": {},
   "outputs": [
    {
     "output_type": "stream",
     "name": "stdout",
     "text": [
      "76176 = 76176\n"
     ]
    }
   ],
   "source": [
    "def ind(n):\n",
    "    control,cont = 0,0\n",
    "    for x in range(1,n+1):\n",
    "        control += x**3\n",
    "        cont += x\n",
    "    print(control, \"=\",cont**2)\n",
    "\n",
    "#ejemplos\n",
    "ind(23)"
   ]
  },
  {
   "source": [
    "<h2>2.</h2>\n",
    "<h3>(i)</h3>\n",
    "$$\\sum_{i=1}^{n} (2i-1) = 1 +3 +5 + ... + (2n-1) = n^2$$"
   ],
   "cell_type": "markdown",
   "metadata": {}
  },
  {
   "cell_type": "code",
   "execution_count": 12,
   "metadata": {},
   "outputs": [
    {
     "output_type": "stream",
     "name": "stdout",
     "text": [
      "36 = 36\n"
     ]
    }
   ],
   "source": [
    "def ind2i(n):\n",
    "    control = 0\n",
    "    for i in range(1,n+1):\n",
    "        control += 2*i - 1\n",
    "    print(control, \"=\", n**2 )\n",
    "\n",
    "#ejemplos \n",
    "ind3(6)"
   ]
  },
  {
   "source": [
    "<h3>(ii)</h3>\n",
    "$$\\sum_{i=1}^{n} (2i-1)^2 = 1^2 + 3^2 + 5^2 + ... + (2n-1)^2 = \\dfrac{n(2n+1)(2n-1)}{6}$$"
   ],
   "cell_type": "markdown",
   "metadata": {}
  },
  {
   "cell_type": "code",
   "execution_count": 17,
   "metadata": {},
   "outputs": [
    {
     "output_type": "stream",
     "name": "stdout",
     "text": [
      "84 = 84.0\n"
     ]
    }
   ],
   "source": [
    "def ind2ii(n):\n",
    "    control = 0\n",
    "    for i in range(1,n+1):\n",
    "        control += (2*i - 1)**2\n",
    "    print(control, \"=\", (n*(2*n + 1)*(2*n - 1))/3)\n",
    "\n",
    "#ejemplos\n",
    "ind2ii(4)"
   ]
  },
  {
   "source": [
    "<h2>Definición coeficiente binomial</h2>\n",
    "Si $0 \\leq k \\leq n$ entonce $$\\{n \\choose k} = \\dfrac{n!}{k!(n-k)!} = \\dfrac{n(n-1)...(n-k+1)}{k!}$$ si k \\neq 0"
   ],
   "cell_type": "markdown",
   "metadata": {}
  },
  {
   "cell_type": "code",
   "execution_count": 13,
   "metadata": {},
   "outputs": [
    {
     "output_type": "execute_result",
     "data": {
      "text/plain": [
       "3921225"
      ]
     },
     "metadata": {},
     "execution_count": 13
    }
   ],
   "source": [
    "def binomial(n, k):\n",
    "    if k < 0 or k > n:\n",
    "        return 0\n",
    "    if k == 0 or k == n:\n",
    "        return 1\n",
    "    total_ways = 1\n",
    "    for i in range(min(k, n - k)):\n",
    "        total_ways = total_ways * (n - i) // (i + 1)\n",
    "    return total_ways\n",
    "\n",
    "#ejemplos\n",
    "#startTime = time.time()\n",
    "binomial(100,4)\n",
    "#print(\"--- %s seconds ---\" % (time.time() - startTime))"
   ]
  },
  {
   "source": [
    "<h2>3.</h2>\n",
    "<h3>(a)</h3>\n",
    "$${n +1 \\choose k} = {n \\choose k - 1} + {n \\choose k}$$"
   ],
   "cell_type": "markdown",
   "metadata": {}
  },
  {
   "cell_type": "code",
   "execution_count": 214,
   "metadata": {},
   "outputs": [
    {
     "output_type": "stream",
     "name": "stdout",
     "text": [
      "4082925 = 4082925\n"
     ]
    }
   ],
   "source": [
    "def binomial3a(n,k):\n",
    "    print(binomial(n+1,k), \"=\",binomial(n,k-1)+binomial(n,k))\n",
    "\n",
    "#ejemplos\n",
    "binomial3a(100,4)"
   ]
  },
  {
   "source": [
    "<h3>(d)</h3>\n",
    "<h4>Teorema del Binomio</h4>\n",
    "$$(a+b)^n = a^n + {n \\choose 1} a^{n-1} b + {n \\choose 2} a^{n-2} b^2 + ... + {n \\choose n-1} a b^{n-1} + b^n = \\displaystyle \\sum_{j=0}^n {n \\choose j} a^{n-j} b^j$$"
   ],
   "cell_type": "markdown",
   "metadata": {}
  },
  {
   "cell_type": "code",
   "execution_count": 240,
   "metadata": {},
   "outputs": [
    {
     "output_type": "stream",
     "name": "stdout",
     "text": [
      "83521 = 83521\n"
     ]
    }
   ],
   "source": [
    "def teoBinomio(a,b,n):\n",
    "    sum = 0\n",
    "    for j in range(n+1):\n",
    "        sum += binomial(n,j) * a**(n-j) * b**j\n",
    "    print((a+b)**n, \"=\", sum)\n",
    "\n",
    "#ejemplos \n",
    "#startTime = time.time()\n",
    "teoBinomio(7,10,4)\n",
    "#print(\"--- %s seconds ---\" % (time.time() - startTime))"
   ]
  },
  {
   "source": [
    "<h3>(e)</h3>\n",
    "<h4>(i)</h4>\n",
    "$$sum_{j=0}^{n} {n \\choose j} = {n \\choose 0} + ... + {n \\choose n} = 2^n$$"
   ],
   "cell_type": "markdown",
   "metadata": {}
  },
  {
   "cell_type": "code",
   "execution_count": 3,
   "metadata": {},
   "outputs": [
    {
     "output_type": "stream",
     "name": "stdout",
     "text": [
      "131072 = 131072\n"
     ]
    }
   ],
   "source": [
    "def sum3ei(n):\n",
    "    sum = 0\n",
    "    for j in range(n+1):\n",
    "        sum+= binomial(n,j)\n",
    "    print(sum,\"=\",2**n)\n",
    "\n",
    "#ejemplos\n",
    "sum3ei(17)"
   ]
  },
  {
   "source": [
    "<h4>(ii)</h4>\n",
    "$$\\sum_{j=0}^n (-1)^j {n \\choose j} = {n \\choose 0}- {n \\choose 1}+...\\pm {n \\choose n} =0$$"
   ],
   "cell_type": "markdown",
   "metadata": {}
  },
  {
   "cell_type": "code",
   "execution_count": 29,
   "metadata": {},
   "outputs": [
    {
     "output_type": "stream",
     "name": "stdout",
     "text": [
      "0 = 0\n"
     ]
    }
   ],
   "source": [
    "def sum3eii(n):\n",
    "    sum = 0\n",
    "    for j in range(n+1):\n",
    "        sum += (-1)**j * binomial(n,j)\n",
    "    print(sum,\"=\",0)\n",
    "\n",
    "#ejemplos\n",
    "sum3eii(30)"
   ]
  },
  {
   "source": [
    "<h4>(iii)</h4>\n",
    "$$\\sum_{l \\; impar} {n \\choose l} = {n \\choose 1} + {n \\choose 3}+ ... = 2^{n-1}$$"
   ],
   "cell_type": "markdown",
   "metadata": {}
  },
  {
   "cell_type": "code",
   "execution_count": 28,
   "metadata": {},
   "outputs": [
    {
     "output_type": "stream",
     "name": "stdout",
     "text": [
      "4096 = 4096\n"
     ]
    }
   ],
   "source": [
    "def sum3eiii(n):\n",
    "    sum = 0\n",
    "    for j in range(n+1):\n",
    "        if j % 2 != 0:\n",
    "            sum += binomial(n,j)\n",
    "    print(sum,\"=\",2**(n-1))\n",
    "\n",
    "#ejemplos\n",
    "sum3eiii(13)"
   ]
  },
  {
   "source": [
    "<h4>(iv)</h4>\n",
    "$$\\sum_{l \\; par} {n \\choose l} = {n \\choose 0} + {n \\choose 2} + ...  = 2^{n-1}$$"
   ],
   "cell_type": "markdown",
   "metadata": {}
  },
  {
   "cell_type": "code",
   "execution_count": 27,
   "metadata": {},
   "outputs": [
    {
     "output_type": "stream",
     "name": "stdout",
     "text": [
      "4096 = 4096\n"
     ]
    }
   ],
   "source": [
    "def sum3eiv(n):\n",
    "    sum = 0\n",
    "    for j in range(n+1):\n",
    "        if j % 2 == 0:\n",
    "            sum += binomial(n,j)\n",
    "    print(sum,\"=\",2**(n-1))\n",
    "\n",
    "#ejemplos\n",
    "sum3eiv(13)"
   ]
  },
  {
   "cell_type": "code",
   "execution_count": null,
   "metadata": {},
   "outputs": [],
   "source": []
  }
 ],
 "metadata": {
  "kernelspec": {
   "name": "python3",
   "display_name": "Python 3"
  },
  "language_info": {
   "codemirror_mode": {
    "name": "ipython",
    "version": 3
   },
   "file_extension": ".py",
   "mimetype": "text/x-python",
   "name": "python",
   "nbconvert_exporter": "python",
   "pygments_lexer": "ipython3",
   "version": "3.7.3-final"
  }
 },
 "nbformat": 4,
 "nbformat_minor": 4
}